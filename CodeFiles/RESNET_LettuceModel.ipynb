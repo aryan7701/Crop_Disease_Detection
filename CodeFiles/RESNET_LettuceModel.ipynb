{
  "nbformat": 4,
  "nbformat_minor": 0,
  "metadata": {
    "colab": {
      "provenance": [],
      "gpuType": "T4"
    },
    "kernelspec": {
      "name": "python3",
      "display_name": "Python 3"
    },
    "language_info": {
      "name": "python"
    },
    "accelerator": "GPU"
  },
  "cells": [
    {
      "cell_type": "code",
      "execution_count": 1,
      "metadata": {
        "colab": {
          "base_uri": "https://localhost:8080/"
        },
        "id": "EvxWg9MiC-O_",
        "outputId": "2f85448e-e24c-47bd-b557-731fcc8cf997"
      },
      "outputs": [
        {
          "output_type": "stream",
          "name": "stdout",
          "text": [
            "Mounted at /content/drive\n"
          ]
        }
      ],
      "source": [
        "# Mount Google Drive to access datasets and save progress\n",
        "from google.colab import drive\n",
        "drive.mount('/content/drive')\n"
      ]
    },
    {
      "cell_type": "code",
      "source": [
        "# Install required libraries\n",
        "!pip install torch torchvision matplotlib albumentations --quiet"
      ],
      "metadata": {
        "id": "ChJ3-TpSDoQd"
      },
      "execution_count": 2,
      "outputs": []
    },
    {
      "cell_type": "markdown",
      "source": [
        "#**TRAIN/TEST/VAL**\n",
        "\n",
        "\n"
      ],
      "metadata": {
        "id": "Qn2PJJYXKFAn"
      }
    },
    {
      "cell_type": "code",
      "source": [
        "# Define the dataset path (update path if needed)\n",
        "dataset_path = \"/content/drive/MyDrive/InnoFarmsAI/FNNPK\"  # Adjust this path\n",
        "\n",
        "# Folder structure\n",
        "classes = ['FN', '-N', '-P', '-K']\n",
        "\n",
        "\n",
        "from sklearn.model_selection import train_test_split\n",
        "import shutil\n",
        "\n",
        "# Helper function to split data into train, val, test\n",
        "def stratified_split(dataset_path, classes, train_ratio=0.7, val_ratio=0.15):\n",
        "    # Paths for train, val, and test datasets\n",
        "    output_dirs = {\n",
        "        \"train\": os.path.join(dataset_path, \"train\"),\n",
        "        \"val\": os.path.join(dataset_path, \"val\"),\n",
        "        \"test\": os.path.join(dataset_path, \"test\"),\n",
        "    }\n",
        "\n",
        "    # Create output directories\n",
        "    for split, path in output_dirs.items():\n",
        "        os.makedirs(path, exist_ok=True)\n",
        "        for cls in classes:\n",
        "            os.makedirs(os.path.join(path, cls), exist_ok=True)\n",
        "\n",
        "    # Perform stratified split for each class\n",
        "    for cls in classes:\n",
        "        class_path = os.path.join(dataset_path, cls if cls != \"FN\" else \"FN_augmented\")\n",
        "        images = os.listdir(class_path)\n",
        "\n",
        "        # Train-validation-test split\n",
        "        train_images, temp_images = train_test_split(images, train_size=train_ratio, random_state=42)\n",
        "        val_images, test_images = train_test_split(temp_images, test_size=val_ratio/(1-train_ratio), random_state=42)\n",
        "\n",
        "        # Move images to respective folders\n",
        "        for img_name in train_images:\n",
        "            shutil.copy(os.path.join(class_path, img_name), os.path.join(output_dirs[\"train\"], cls))\n",
        "        for img_name in val_images:\n",
        "            shutil.copy(os.path.join(class_path, img_name), os.path.join(output_dirs[\"val\"], cls))\n",
        "        for img_name in test_images:\n",
        "            shutil.copy(os.path.join(class_path, img_name), os.path.join(output_dirs[\"test\"], cls))\n",
        "\n",
        "    print(\"Train-Validation-Test split completed!\")\n",
        "    return output_dirs\n",
        "\n",
        "# Split the dataset\n",
        "output_dirs = stratified_split(dataset_path, classes)\n",
        "print(\"Data split into:\", output_dirs)\n"
      ],
      "metadata": {
        "colab": {
          "base_uri": "https://localhost:8080/"
        },
        "id": "Z8yMq6yZDwuh",
        "outputId": "362a15a5-8a0c-4ad7-ca13-fd9b6567a071"
      },
      "execution_count": 5,
      "outputs": [
        {
          "output_type": "stream",
          "name": "stdout",
          "text": [
            "Train-Validation-Test split completed!\n",
            "Data split into: {'train': '/content/drive/MyDrive/InnoFarmsAI/FNNPK/train', 'val': '/content/drive/MyDrive/InnoFarmsAI/FNNPK/val', 'test': '/content/drive/MyDrive/InnoFarmsAI/FNNPK/test'}\n"
          ]
        }
      ]
    },
    {
      "cell_type": "markdown",
      "source": [
        "#**DATALOADER**"
      ],
      "metadata": {
        "id": "gURfYdEKKTZW"
      }
    },
    {
      "cell_type": "code",
      "source": [
        "import torch\n",
        "from torch.utils.data import Dataset, DataLoader\n",
        "from torchvision import transforms\n",
        "from PIL import Image\n",
        "import os\n",
        "\n",
        "# Define the Dataset class\n",
        "class LettuceDataset(Dataset):\n",
        "    def __init__(self, dataset_dir, classes, transform=None):\n",
        "        self.dataset_dir = dataset_dir\n",
        "        self.classes = classes\n",
        "        self.transform = transform\n",
        "        self.image_paths = []\n",
        "        self.labels = []\n",
        "\n",
        "        # Load image paths and labels\n",
        "        for cls_idx, cls in enumerate(classes):\n",
        "            class_dir = os.path.join(dataset_dir, cls)\n",
        "            for img_name in os.listdir(class_dir):\n",
        "                img_path = os.path.join(class_dir, img_name)\n",
        "                if os.path.isfile(img_path):  # Ensure the file is valid\n",
        "                    self.image_paths.append(img_path)\n",
        "                    self.labels.append(cls_idx)  # Assign numeric labels to classes\n",
        "                else:\n",
        "                    print(f\"Skipping invalid file: {img_path}\")\n",
        "\n",
        "    def __len__(self):\n",
        "        return len(self.image_paths)\n",
        "\n",
        "    def __getitem__(self, idx):\n",
        "        try:\n",
        "            # Load image\n",
        "            img_path = self.image_paths[idx]\n",
        "            image = Image.open(img_path).convert(\"RGB\")\n",
        "\n",
        "            # Apply transformations\n",
        "            if self.transform:\n",
        "                image = self.transform(image)\n",
        "\n",
        "            # Get label\n",
        "            label = self.labels[idx]\n",
        "\n",
        "            # Calculate average RGB intensities (before normalization)\n",
        "            rgb_target = image.mean(dim=(1, 2))  # Mean across width and height for each channel\n",
        "\n",
        "            return image, (label, rgb_target)\n",
        "        except Exception as e:\n",
        "            print(f\"Error loading image at index {idx}: {e}\")\n",
        "            raise\n",
        "\n",
        "# Define transformations\n",
        "train_transform = transforms.Compose([\n",
        "    transforms.Resize((224, 224)),\n",
        "    transforms.RandomHorizontalFlip(),\n",
        "    transforms.RandomRotation(15),\n",
        "    transforms.ColorJitter(brightness=0.2, contrast=0.2, saturation=0.2, hue=0.1),\n",
        "    transforms.ToTensor(),\n",
        "    transforms.Normalize(mean=[0.485, 0.456, 0.406], std=[0.229, 0.224, 0.225]),\n",
        "])\n",
        "\n",
        "val_test_transform = transforms.Compose([\n",
        "    transforms.Resize((224, 224)),\n",
        "    transforms.ToTensor(),\n",
        "    transforms.Normalize(mean=[0.485, 0.456, 0.406], std=[0.229, 0.224, 0.225]),\n",
        "])\n",
        "\n",
        "# Create datasets\n",
        "train_dataset = LettuceDataset(os.path.join(output_dirs[\"train\"]), classes, transform=train_transform)\n",
        "val_dataset = LettuceDataset(os.path.join(output_dirs[\"val\"]), classes, transform=val_test_transform)\n",
        "test_dataset = LettuceDataset(os.path.join(output_dirs[\"test\"]), classes, transform=val_test_transform)\n",
        "\n",
        "# Create DataLoaders\n",
        "train_loader = DataLoader(train_dataset, batch_size=16, shuffle=True, num_workers=2)\n",
        "val_loader = DataLoader(val_dataset, batch_size=16, shuffle=False, num_workers=2)\n",
        "test_loader = DataLoader(test_dataset, batch_size=16, shuffle=False, num_workers=2)\n",
        "\n",
        "print(\"DataLoaders created successfully!\")\n"
      ],
      "metadata": {
        "colab": {
          "base_uri": "https://localhost:8080/"
        },
        "id": "wUx-lkpyD9i3",
        "outputId": "7ca0013c-5fd9-48f1-beab-612706b6aeec"
      },
      "execution_count": 6,
      "outputs": [
        {
          "output_type": "stream",
          "name": "stdout",
          "text": [
            "DataLoaders created successfully!\n"
          ]
        }
      ]
    },
    {
      "cell_type": "markdown",
      "source": [
        "#**MODEL ARCHITECTURE**"
      ],
      "metadata": {
        "id": "7nb2DLD9KWbm"
      }
    },
    {
      "cell_type": "code",
      "source": [
        "import torch\n",
        "import torch.nn as nn\n",
        "from torchvision import models\n",
        "from torchvision.models import ResNet50_Weights\n",
        "\n",
        "# Define the multi-task model\n",
        "class MultiTaskResNetModel(nn.Module):\n",
        "    def __init__(self, num_classes, pretrained=True):\n",
        "        super(MultiTaskResNetModel, self).__init__()\n",
        "\n",
        "        # Load a pre-trained ResNet backbone\n",
        "        self.backbone = models.resnet50(weights=ResNet50_Weights.IMAGENET1K_V2)\n",
        "\n",
        "        # Remove the original classification head (fc layer)\n",
        "        num_features = self.backbone.fc.in_features\n",
        "        self.backbone.fc = nn.Identity()  # Remove the original classifier\n",
        "\n",
        "        # Shared fully connected layers\n",
        "        self.shared_fc = nn.Sequential(\n",
        "            nn.Linear(num_features, 512),\n",
        "            nn.ReLU(),\n",
        "            nn.Dropout(0.5),  # Dropout to reduce overfitting\n",
        "        )\n",
        "\n",
        "        # Classification head\n",
        "        self.classification_head = nn.Sequential(\n",
        "            nn.Linear(512, 128),\n",
        "            nn.ReLU(),\n",
        "            nn.Dropout(0.5),  # Dropout for regularization\n",
        "            nn.Linear(128, num_classes)  # Number of classes\n",
        "            # No nn.Softmax, as CrossEntropyLoss expects logits\n",
        "        )\n",
        "\n",
        "        # Regression head\n",
        "        self.regression_head = nn.Sequential(\n",
        "            nn.Linear(512, 128),\n",
        "            nn.ReLU(),\n",
        "            nn.Dropout(0.5),  # Dropout for regularization\n",
        "            nn.Linear(128, 3),  # Predicting R, G, B values\n",
        "            nn.Sigmoid()  # Ensures outputs are in [0, 1]\n",
        "        )\n",
        "\n",
        "    def forward(self, x):\n",
        "        # Extract features from the backbone\n",
        "        features = self.backbone(x)\n",
        "\n",
        "        # Shared layers\n",
        "        shared_features = self.shared_fc(features)\n",
        "\n",
        "        # Task-specific heads\n",
        "        classification_output = self.classification_head(shared_features)\n",
        "        regression_output = self.regression_head(shared_features)\n",
        "\n",
        "        return classification_output, regression_output\n",
        "\n",
        "# Instantiate the model\n",
        "num_classes = 4  # FN, -N, -P, -K\n",
        "model = MultiTaskResNetModel(num_classes=num_classes)\n",
        "\n",
        "# Print model summary\n",
        "print(model)\n"
      ],
      "metadata": {
        "colab": {
          "base_uri": "https://localhost:8080/"
        },
        "id": "kEtMMg4DGbZZ",
        "outputId": "113014f7-f479-4312-ae57-a16b2fae33d5"
      },
      "execution_count": 7,
      "outputs": [
        {
          "output_type": "stream",
          "name": "stderr",
          "text": [
            "Downloading: \"https://download.pytorch.org/models/resnet50-11ad3fa6.pth\" to /root/.cache/torch/hub/checkpoints/resnet50-11ad3fa6.pth\n",
            "100%|██████████| 97.8M/97.8M [00:02<00:00, 50.7MB/s]\n"
          ]
        },
        {
          "output_type": "stream",
          "name": "stdout",
          "text": [
            "MultiTaskResNetModel(\n",
            "  (backbone): ResNet(\n",
            "    (conv1): Conv2d(3, 64, kernel_size=(7, 7), stride=(2, 2), padding=(3, 3), bias=False)\n",
            "    (bn1): BatchNorm2d(64, eps=1e-05, momentum=0.1, affine=True, track_running_stats=True)\n",
            "    (relu): ReLU(inplace=True)\n",
            "    (maxpool): MaxPool2d(kernel_size=3, stride=2, padding=1, dilation=1, ceil_mode=False)\n",
            "    (layer1): Sequential(\n",
            "      (0): Bottleneck(\n",
            "        (conv1): Conv2d(64, 64, kernel_size=(1, 1), stride=(1, 1), bias=False)\n",
            "        (bn1): BatchNorm2d(64, eps=1e-05, momentum=0.1, affine=True, track_running_stats=True)\n",
            "        (conv2): Conv2d(64, 64, kernel_size=(3, 3), stride=(1, 1), padding=(1, 1), bias=False)\n",
            "        (bn2): BatchNorm2d(64, eps=1e-05, momentum=0.1, affine=True, track_running_stats=True)\n",
            "        (conv3): Conv2d(64, 256, kernel_size=(1, 1), stride=(1, 1), bias=False)\n",
            "        (bn3): BatchNorm2d(256, eps=1e-05, momentum=0.1, affine=True, track_running_stats=True)\n",
            "        (relu): ReLU(inplace=True)\n",
            "        (downsample): Sequential(\n",
            "          (0): Conv2d(64, 256, kernel_size=(1, 1), stride=(1, 1), bias=False)\n",
            "          (1): BatchNorm2d(256, eps=1e-05, momentum=0.1, affine=True, track_running_stats=True)\n",
            "        )\n",
            "      )\n",
            "      (1): Bottleneck(\n",
            "        (conv1): Conv2d(256, 64, kernel_size=(1, 1), stride=(1, 1), bias=False)\n",
            "        (bn1): BatchNorm2d(64, eps=1e-05, momentum=0.1, affine=True, track_running_stats=True)\n",
            "        (conv2): Conv2d(64, 64, kernel_size=(3, 3), stride=(1, 1), padding=(1, 1), bias=False)\n",
            "        (bn2): BatchNorm2d(64, eps=1e-05, momentum=0.1, affine=True, track_running_stats=True)\n",
            "        (conv3): Conv2d(64, 256, kernel_size=(1, 1), stride=(1, 1), bias=False)\n",
            "        (bn3): BatchNorm2d(256, eps=1e-05, momentum=0.1, affine=True, track_running_stats=True)\n",
            "        (relu): ReLU(inplace=True)\n",
            "      )\n",
            "      (2): Bottleneck(\n",
            "        (conv1): Conv2d(256, 64, kernel_size=(1, 1), stride=(1, 1), bias=False)\n",
            "        (bn1): BatchNorm2d(64, eps=1e-05, momentum=0.1, affine=True, track_running_stats=True)\n",
            "        (conv2): Conv2d(64, 64, kernel_size=(3, 3), stride=(1, 1), padding=(1, 1), bias=False)\n",
            "        (bn2): BatchNorm2d(64, eps=1e-05, momentum=0.1, affine=True, track_running_stats=True)\n",
            "        (conv3): Conv2d(64, 256, kernel_size=(1, 1), stride=(1, 1), bias=False)\n",
            "        (bn3): BatchNorm2d(256, eps=1e-05, momentum=0.1, affine=True, track_running_stats=True)\n",
            "        (relu): ReLU(inplace=True)\n",
            "      )\n",
            "    )\n",
            "    (layer2): Sequential(\n",
            "      (0): Bottleneck(\n",
            "        (conv1): Conv2d(256, 128, kernel_size=(1, 1), stride=(1, 1), bias=False)\n",
            "        (bn1): BatchNorm2d(128, eps=1e-05, momentum=0.1, affine=True, track_running_stats=True)\n",
            "        (conv2): Conv2d(128, 128, kernel_size=(3, 3), stride=(2, 2), padding=(1, 1), bias=False)\n",
            "        (bn2): BatchNorm2d(128, eps=1e-05, momentum=0.1, affine=True, track_running_stats=True)\n",
            "        (conv3): Conv2d(128, 512, kernel_size=(1, 1), stride=(1, 1), bias=False)\n",
            "        (bn3): BatchNorm2d(512, eps=1e-05, momentum=0.1, affine=True, track_running_stats=True)\n",
            "        (relu): ReLU(inplace=True)\n",
            "        (downsample): Sequential(\n",
            "          (0): Conv2d(256, 512, kernel_size=(1, 1), stride=(2, 2), bias=False)\n",
            "          (1): BatchNorm2d(512, eps=1e-05, momentum=0.1, affine=True, track_running_stats=True)\n",
            "        )\n",
            "      )\n",
            "      (1): Bottleneck(\n",
            "        (conv1): Conv2d(512, 128, kernel_size=(1, 1), stride=(1, 1), bias=False)\n",
            "        (bn1): BatchNorm2d(128, eps=1e-05, momentum=0.1, affine=True, track_running_stats=True)\n",
            "        (conv2): Conv2d(128, 128, kernel_size=(3, 3), stride=(1, 1), padding=(1, 1), bias=False)\n",
            "        (bn2): BatchNorm2d(128, eps=1e-05, momentum=0.1, affine=True, track_running_stats=True)\n",
            "        (conv3): Conv2d(128, 512, kernel_size=(1, 1), stride=(1, 1), bias=False)\n",
            "        (bn3): BatchNorm2d(512, eps=1e-05, momentum=0.1, affine=True, track_running_stats=True)\n",
            "        (relu): ReLU(inplace=True)\n",
            "      )\n",
            "      (2): Bottleneck(\n",
            "        (conv1): Conv2d(512, 128, kernel_size=(1, 1), stride=(1, 1), bias=False)\n",
            "        (bn1): BatchNorm2d(128, eps=1e-05, momentum=0.1, affine=True, track_running_stats=True)\n",
            "        (conv2): Conv2d(128, 128, kernel_size=(3, 3), stride=(1, 1), padding=(1, 1), bias=False)\n",
            "        (bn2): BatchNorm2d(128, eps=1e-05, momentum=0.1, affine=True, track_running_stats=True)\n",
            "        (conv3): Conv2d(128, 512, kernel_size=(1, 1), stride=(1, 1), bias=False)\n",
            "        (bn3): BatchNorm2d(512, eps=1e-05, momentum=0.1, affine=True, track_running_stats=True)\n",
            "        (relu): ReLU(inplace=True)\n",
            "      )\n",
            "      (3): Bottleneck(\n",
            "        (conv1): Conv2d(512, 128, kernel_size=(1, 1), stride=(1, 1), bias=False)\n",
            "        (bn1): BatchNorm2d(128, eps=1e-05, momentum=0.1, affine=True, track_running_stats=True)\n",
            "        (conv2): Conv2d(128, 128, kernel_size=(3, 3), stride=(1, 1), padding=(1, 1), bias=False)\n",
            "        (bn2): BatchNorm2d(128, eps=1e-05, momentum=0.1, affine=True, track_running_stats=True)\n",
            "        (conv3): Conv2d(128, 512, kernel_size=(1, 1), stride=(1, 1), bias=False)\n",
            "        (bn3): BatchNorm2d(512, eps=1e-05, momentum=0.1, affine=True, track_running_stats=True)\n",
            "        (relu): ReLU(inplace=True)\n",
            "      )\n",
            "    )\n",
            "    (layer3): Sequential(\n",
            "      (0): Bottleneck(\n",
            "        (conv1): Conv2d(512, 256, kernel_size=(1, 1), stride=(1, 1), bias=False)\n",
            "        (bn1): BatchNorm2d(256, eps=1e-05, momentum=0.1, affine=True, track_running_stats=True)\n",
            "        (conv2): Conv2d(256, 256, kernel_size=(3, 3), stride=(2, 2), padding=(1, 1), bias=False)\n",
            "        (bn2): BatchNorm2d(256, eps=1e-05, momentum=0.1, affine=True, track_running_stats=True)\n",
            "        (conv3): Conv2d(256, 1024, kernel_size=(1, 1), stride=(1, 1), bias=False)\n",
            "        (bn3): BatchNorm2d(1024, eps=1e-05, momentum=0.1, affine=True, track_running_stats=True)\n",
            "        (relu): ReLU(inplace=True)\n",
            "        (downsample): Sequential(\n",
            "          (0): Conv2d(512, 1024, kernel_size=(1, 1), stride=(2, 2), bias=False)\n",
            "          (1): BatchNorm2d(1024, eps=1e-05, momentum=0.1, affine=True, track_running_stats=True)\n",
            "        )\n",
            "      )\n",
            "      (1): Bottleneck(\n",
            "        (conv1): Conv2d(1024, 256, kernel_size=(1, 1), stride=(1, 1), bias=False)\n",
            "        (bn1): BatchNorm2d(256, eps=1e-05, momentum=0.1, affine=True, track_running_stats=True)\n",
            "        (conv2): Conv2d(256, 256, kernel_size=(3, 3), stride=(1, 1), padding=(1, 1), bias=False)\n",
            "        (bn2): BatchNorm2d(256, eps=1e-05, momentum=0.1, affine=True, track_running_stats=True)\n",
            "        (conv3): Conv2d(256, 1024, kernel_size=(1, 1), stride=(1, 1), bias=False)\n",
            "        (bn3): BatchNorm2d(1024, eps=1e-05, momentum=0.1, affine=True, track_running_stats=True)\n",
            "        (relu): ReLU(inplace=True)\n",
            "      )\n",
            "      (2): Bottleneck(\n",
            "        (conv1): Conv2d(1024, 256, kernel_size=(1, 1), stride=(1, 1), bias=False)\n",
            "        (bn1): BatchNorm2d(256, eps=1e-05, momentum=0.1, affine=True, track_running_stats=True)\n",
            "        (conv2): Conv2d(256, 256, kernel_size=(3, 3), stride=(1, 1), padding=(1, 1), bias=False)\n",
            "        (bn2): BatchNorm2d(256, eps=1e-05, momentum=0.1, affine=True, track_running_stats=True)\n",
            "        (conv3): Conv2d(256, 1024, kernel_size=(1, 1), stride=(1, 1), bias=False)\n",
            "        (bn3): BatchNorm2d(1024, eps=1e-05, momentum=0.1, affine=True, track_running_stats=True)\n",
            "        (relu): ReLU(inplace=True)\n",
            "      )\n",
            "      (3): Bottleneck(\n",
            "        (conv1): Conv2d(1024, 256, kernel_size=(1, 1), stride=(1, 1), bias=False)\n",
            "        (bn1): BatchNorm2d(256, eps=1e-05, momentum=0.1, affine=True, track_running_stats=True)\n",
            "        (conv2): Conv2d(256, 256, kernel_size=(3, 3), stride=(1, 1), padding=(1, 1), bias=False)\n",
            "        (bn2): BatchNorm2d(256, eps=1e-05, momentum=0.1, affine=True, track_running_stats=True)\n",
            "        (conv3): Conv2d(256, 1024, kernel_size=(1, 1), stride=(1, 1), bias=False)\n",
            "        (bn3): BatchNorm2d(1024, eps=1e-05, momentum=0.1, affine=True, track_running_stats=True)\n",
            "        (relu): ReLU(inplace=True)\n",
            "      )\n",
            "      (4): Bottleneck(\n",
            "        (conv1): Conv2d(1024, 256, kernel_size=(1, 1), stride=(1, 1), bias=False)\n",
            "        (bn1): BatchNorm2d(256, eps=1e-05, momentum=0.1, affine=True, track_running_stats=True)\n",
            "        (conv2): Conv2d(256, 256, kernel_size=(3, 3), stride=(1, 1), padding=(1, 1), bias=False)\n",
            "        (bn2): BatchNorm2d(256, eps=1e-05, momentum=0.1, affine=True, track_running_stats=True)\n",
            "        (conv3): Conv2d(256, 1024, kernel_size=(1, 1), stride=(1, 1), bias=False)\n",
            "        (bn3): BatchNorm2d(1024, eps=1e-05, momentum=0.1, affine=True, track_running_stats=True)\n",
            "        (relu): ReLU(inplace=True)\n",
            "      )\n",
            "      (5): Bottleneck(\n",
            "        (conv1): Conv2d(1024, 256, kernel_size=(1, 1), stride=(1, 1), bias=False)\n",
            "        (bn1): BatchNorm2d(256, eps=1e-05, momentum=0.1, affine=True, track_running_stats=True)\n",
            "        (conv2): Conv2d(256, 256, kernel_size=(3, 3), stride=(1, 1), padding=(1, 1), bias=False)\n",
            "        (bn2): BatchNorm2d(256, eps=1e-05, momentum=0.1, affine=True, track_running_stats=True)\n",
            "        (conv3): Conv2d(256, 1024, kernel_size=(1, 1), stride=(1, 1), bias=False)\n",
            "        (bn3): BatchNorm2d(1024, eps=1e-05, momentum=0.1, affine=True, track_running_stats=True)\n",
            "        (relu): ReLU(inplace=True)\n",
            "      )\n",
            "    )\n",
            "    (layer4): Sequential(\n",
            "      (0): Bottleneck(\n",
            "        (conv1): Conv2d(1024, 512, kernel_size=(1, 1), stride=(1, 1), bias=False)\n",
            "        (bn1): BatchNorm2d(512, eps=1e-05, momentum=0.1, affine=True, track_running_stats=True)\n",
            "        (conv2): Conv2d(512, 512, kernel_size=(3, 3), stride=(2, 2), padding=(1, 1), bias=False)\n",
            "        (bn2): BatchNorm2d(512, eps=1e-05, momentum=0.1, affine=True, track_running_stats=True)\n",
            "        (conv3): Conv2d(512, 2048, kernel_size=(1, 1), stride=(1, 1), bias=False)\n",
            "        (bn3): BatchNorm2d(2048, eps=1e-05, momentum=0.1, affine=True, track_running_stats=True)\n",
            "        (relu): ReLU(inplace=True)\n",
            "        (downsample): Sequential(\n",
            "          (0): Conv2d(1024, 2048, kernel_size=(1, 1), stride=(2, 2), bias=False)\n",
            "          (1): BatchNorm2d(2048, eps=1e-05, momentum=0.1, affine=True, track_running_stats=True)\n",
            "        )\n",
            "      )\n",
            "      (1): Bottleneck(\n",
            "        (conv1): Conv2d(2048, 512, kernel_size=(1, 1), stride=(1, 1), bias=False)\n",
            "        (bn1): BatchNorm2d(512, eps=1e-05, momentum=0.1, affine=True, track_running_stats=True)\n",
            "        (conv2): Conv2d(512, 512, kernel_size=(3, 3), stride=(1, 1), padding=(1, 1), bias=False)\n",
            "        (bn2): BatchNorm2d(512, eps=1e-05, momentum=0.1, affine=True, track_running_stats=True)\n",
            "        (conv3): Conv2d(512, 2048, kernel_size=(1, 1), stride=(1, 1), bias=False)\n",
            "        (bn3): BatchNorm2d(2048, eps=1e-05, momentum=0.1, affine=True, track_running_stats=True)\n",
            "        (relu): ReLU(inplace=True)\n",
            "      )\n",
            "      (2): Bottleneck(\n",
            "        (conv1): Conv2d(2048, 512, kernel_size=(1, 1), stride=(1, 1), bias=False)\n",
            "        (bn1): BatchNorm2d(512, eps=1e-05, momentum=0.1, affine=True, track_running_stats=True)\n",
            "        (conv2): Conv2d(512, 512, kernel_size=(3, 3), stride=(1, 1), padding=(1, 1), bias=False)\n",
            "        (bn2): BatchNorm2d(512, eps=1e-05, momentum=0.1, affine=True, track_running_stats=True)\n",
            "        (conv3): Conv2d(512, 2048, kernel_size=(1, 1), stride=(1, 1), bias=False)\n",
            "        (bn3): BatchNorm2d(2048, eps=1e-05, momentum=0.1, affine=True, track_running_stats=True)\n",
            "        (relu): ReLU(inplace=True)\n",
            "      )\n",
            "    )\n",
            "    (avgpool): AdaptiveAvgPool2d(output_size=(1, 1))\n",
            "    (fc): Identity()\n",
            "  )\n",
            "  (shared_fc): Sequential(\n",
            "    (0): Linear(in_features=2048, out_features=512, bias=True)\n",
            "    (1): ReLU()\n",
            "    (2): Dropout(p=0.5, inplace=False)\n",
            "  )\n",
            "  (classification_head): Sequential(\n",
            "    (0): Linear(in_features=512, out_features=128, bias=True)\n",
            "    (1): ReLU()\n",
            "    (2): Dropout(p=0.5, inplace=False)\n",
            "    (3): Linear(in_features=128, out_features=4, bias=True)\n",
            "  )\n",
            "  (regression_head): Sequential(\n",
            "    (0): Linear(in_features=512, out_features=128, bias=True)\n",
            "    (1): ReLU()\n",
            "    (2): Dropout(p=0.5, inplace=False)\n",
            "    (3): Linear(in_features=128, out_features=3, bias=True)\n",
            "    (4): Sigmoid()\n",
            "  )\n",
            ")\n"
          ]
        }
      ]
    },
    {
      "cell_type": "markdown",
      "source": [
        "#**TRAINING**"
      ],
      "metadata": {
        "id": "DnOYJllGKdbp"
      }
    },
    {
      "cell_type": "code",
      "source": [
        "import torch\n",
        "import torch.optim as optim\n",
        "from tqdm import tqdm\n",
        "from torch.optim.lr_scheduler import ReduceLROnPlateau\n",
        "import torch.nn as nn\n",
        "from torch.utils.data import DataLoader\n",
        "\n",
        "# Device initialization\n",
        "device = torch.device(\"cuda\" if torch.cuda.is_available() else \"cpu\")\n",
        "print(f\"Using device: {device}\")\n",
        "\n",
        "# Move the model to the selected device\n",
        "model = model.to(device)\n",
        "\n",
        "# Define Loss Functions\n",
        "classification_criterion = nn.CrossEntropyLoss()  # For classification\n",
        "regression_criterion = nn.MSELoss()  # For regression\n",
        "\n",
        "# Unfreeze the last few layers of ResNet\n",
        "for param in model.backbone.layer4.parameters():\n",
        "    param.requires_grad = True\n",
        "\n",
        "# Normalize RGB targets to [0, 1] in your dataset if not already done\n",
        "\n",
        "# Define DataLoader with batch size\n",
        "batch_size = 32\n",
        "train_loader = DataLoader(train_dataset, batch_size=batch_size, shuffle=True)\n",
        "val_loader = DataLoader(val_dataset, batch_size=batch_size, shuffle=False)\n",
        "\n",
        "# Dynamic Loss Weights (Uncertainty-Based)\n",
        "log_sigma1 = torch.nn.Parameter(torch.tensor(0.0, device=device))\n",
        "log_sigma2 = torch.nn.Parameter(torch.tensor(0.0, device=device))\n",
        "\n",
        "# Create parameter groups for optimizer\n",
        "decay = []\n",
        "no_decay = []\n",
        "for name, param in model.named_parameters():\n",
        "    if 'bias' in name or 'bn' in name or 'BatchNorm' in name:\n",
        "        no_decay.append(param)\n",
        "    else:\n",
        "        decay.append(param)\n",
        "\n",
        "# Include log_sigma parameters without weight decay\n",
        "optimizer = optim.AdamW([\n",
        "    {'params': decay, 'weight_decay': 1e-4},\n",
        "    {'params': no_decay, 'weight_decay': 0.0},\n",
        "    {'params': [log_sigma1, log_sigma2], 'weight_decay': 0.0}\n",
        "], lr=1e-4)\n",
        "\n",
        "# Define scheduler\n",
        "scheduler = ReduceLROnPlateau(optimizer, mode='min', factor=0.5, patience=3, verbose=True)\n",
        "\n",
        "# Training configuration\n",
        "num_epochs = 25\n",
        "best_val_accuracy = 0.0  # To track the best validation accuracy\n",
        "best_model_path = \"/content/drive/MyDrive/InnoFarmsAI/FNNPK/best_model.pth\"  # File to save the best model\n",
        "\n",
        "# Initialize lists to store metrics\n",
        "train_losses, val_losses = [], []\n",
        "train_accuracies, val_accuracies = [], []\n",
        "\n",
        "# Training loop\n",
        "for epoch in range(num_epochs):\n",
        "    print(f\"\\nEpoch {epoch + 1}/{num_epochs}\")\n",
        "    model.train()\n",
        "    train_loss = 0.0\n",
        "    classification_train_loss = 0.0\n",
        "    regression_train_loss = 0.0\n",
        "    correct, total = 0, 0\n",
        "\n",
        "    for images, (labels, rgb_targets) in tqdm(train_loader):\n",
        "        images, labels, rgb_targets = images.to(device), labels.to(device), rgb_targets.to(device)\n",
        "\n",
        "        optimizer.zero_grad()\n",
        "\n",
        "        # Forward pass\n",
        "        classification_output, regression_output = model(images)\n",
        "\n",
        "        # Compute losses\n",
        "        classification_loss = classification_criterion(classification_output, labels)\n",
        "        regression_loss = regression_criterion(regression_output, rgb_targets)\n",
        "\n",
        "        # Dynamic weighting\n",
        "        loss = (\n",
        "            torch.exp(-log_sigma1) * classification_loss +\n",
        "            torch.exp(-log_sigma2) * regression_loss +\n",
        "            (log_sigma1 + log_sigma2)\n",
        "        )\n",
        "\n",
        "        # Backward pass and optimization\n",
        "        loss.backward()\n",
        "\n",
        "        # Gradient clipping\n",
        "        torch.nn.utils.clip_grad_norm_(model.parameters(), max_norm=1.0)\n",
        "\n",
        "        optimizer.step()\n",
        "\n",
        "        train_loss += loss.item()\n",
        "        classification_train_loss += classification_loss.item()\n",
        "        regression_train_loss += regression_loss.item()\n",
        "\n",
        "        _, predicted = torch.max(classification_output, 1)\n",
        "        total += labels.size(0)\n",
        "        correct += (predicted == labels).sum().item()\n",
        "\n",
        "    train_accuracy = 100 * correct / total\n",
        "    train_losses.append(train_loss / len(train_loader))\n",
        "    train_accuracies.append(train_accuracy)\n",
        "    avg_classification_train_loss = classification_train_loss / len(train_loader)\n",
        "    avg_regression_train_loss = regression_train_loss / len(train_loader)\n",
        "\n",
        "    print(f\"Train Loss: {train_losses[-1]:.4f}, Classification Loss: {avg_classification_train_loss:.4f}, Regression Loss: {avg_regression_train_loss:.4f}, Accuracy: {train_accuracies[-1]:.2f}%\")\n",
        "\n",
        "    # Validation loop\n",
        "    model.eval()\n",
        "    val_loss = 0.0\n",
        "    classification_val_loss = 0.0\n",
        "    regression_val_loss = 0.0\n",
        "    val_correct, val_total = 0, 0\n",
        "    with torch.no_grad():\n",
        "        for images, (labels, rgb_targets) in val_loader:\n",
        "            images, labels, rgb_targets = images.to(device), labels.to(device), rgb_targets.to(device)\n",
        "            classification_output, regression_output = model(images)\n",
        "            classification_loss = classification_criterion(classification_output, labels)\n",
        "            regression_loss = regression_criterion(regression_output, rgb_targets)\n",
        "            loss = (\n",
        "                torch.exp(-log_sigma1) * classification_loss +\n",
        "                torch.exp(-log_sigma2) * regression_loss +\n",
        "                (log_sigma1 + log_sigma2)\n",
        "            )\n",
        "            val_loss += loss.item()\n",
        "            classification_val_loss += classification_loss.item()\n",
        "            regression_val_loss += regression_loss.item()\n",
        "            _, predicted = torch.max(classification_output, 1)\n",
        "            val_total += labels.size(0)\n",
        "            val_correct += (predicted == labels).sum().item()\n",
        "\n",
        "    val_accuracy = 100 * val_correct / val_total\n",
        "    val_losses.append(val_loss / len(val_loader))\n",
        "    val_accuracies.append(val_accuracy)\n",
        "    avg_classification_val_loss = classification_val_loss / len(val_loader)\n",
        "    avg_regression_val_loss = regression_val_loss / len(val_loader)\n",
        "\n",
        "    print(f\"Validation Loss: {val_losses[-1]:.4f}, Classification Loss: {avg_classification_val_loss:.4f}, Regression Loss: {avg_regression_val_loss:.4f}, Accuracy: {val_accuracies[-1]:.2f}%\")\n",
        "\n",
        "    # Save the best model\n",
        "    if val_accuracy > best_val_accuracy:\n",
        "        best_val_accuracy = val_accuracy\n",
        "        torch.save(model.state_dict(), best_model_path)\n",
        "        print(f\"New best model saved with accuracy: {best_val_accuracy:.2f}%\")\n",
        "\n",
        "    # Step the scheduler\n",
        "    scheduler.step(val_losses[-1])\n",
        "\n",
        "print(f\"\\nTraining complete. Best validation accuracy: {best_val_accuracy:.2f}%\")\n",
        "print(f\"Best model saved at: {best_model_path}\")\n"
      ],
      "metadata": {
        "colab": {
          "base_uri": "https://localhost:8080/"
        },
        "id": "Tqs90XhwHCX2",
        "outputId": "db30f8c8-e04e-4d39-a14c-0052d0f8f4e0"
      },
      "execution_count": 10,
      "outputs": [
        {
          "output_type": "stream",
          "name": "stdout",
          "text": [
            "Using device: cuda\n",
            "\n",
            "Epoch 1/25\n"
          ]
        },
        {
          "output_type": "stream",
          "name": "stderr",
          "text": [
            "100%|██████████| 6/6 [00:09<00:00,  1.53s/it]\n"
          ]
        },
        {
          "output_type": "stream",
          "name": "stdout",
          "text": [
            "Train Loss: 1.7381, Classification Loss: 1.3236, Regression Loss: 0.4148, Accuracy: 57.30%\n",
            "Validation Loss: 1.6314, Classification Loss: 1.2868, Regression Loss: 0.3452, Accuracy: 71.79%\n",
            "New best model saved with accuracy: 71.79%\n",
            "\n",
            "Epoch 2/25\n"
          ]
        },
        {
          "output_type": "stream",
          "name": "stderr",
          "text": [
            "100%|██████████| 6/6 [00:09<00:00,  1.50s/it]\n"
          ]
        },
        {
          "output_type": "stream",
          "name": "stdout",
          "text": [
            "Train Loss: 1.6117, Classification Loss: 1.2446, Regression Loss: 0.3679, Accuracy: 59.55%\n",
            "Validation Loss: 1.5220, Classification Loss: 1.1904, Regression Loss: 0.3326, Accuracy: 74.36%\n",
            "New best model saved with accuracy: 74.36%\n",
            "\n",
            "Epoch 3/25\n"
          ]
        },
        {
          "output_type": "stream",
          "name": "stderr",
          "text": [
            "100%|██████████| 6/6 [00:09<00:00,  1.60s/it]\n"
          ]
        },
        {
          "output_type": "stream",
          "name": "stdout",
          "text": [
            "Train Loss: 1.4590, Classification Loss: 1.1063, Regression Loss: 0.3538, Accuracy: 71.91%\n",
            "Validation Loss: 1.4047, Classification Loss: 1.0824, Regression Loss: 0.3237, Accuracy: 71.79%\n",
            "\n",
            "Epoch 4/25\n"
          ]
        },
        {
          "output_type": "stream",
          "name": "stderr",
          "text": [
            "100%|██████████| 6/6 [00:11<00:00,  1.90s/it]\n"
          ]
        },
        {
          "output_type": "stream",
          "name": "stdout",
          "text": [
            "Train Loss: 1.3334, Classification Loss: 0.9807, Regression Loss: 0.3540, Accuracy: 74.72%\n",
            "Validation Loss: 1.3090, Classification Loss: 0.9807, Regression Loss: 0.3299, Accuracy: 69.23%\n",
            "\n",
            "Epoch 5/25\n"
          ]
        },
        {
          "output_type": "stream",
          "name": "stderr",
          "text": [
            "100%|██████████| 6/6 [00:09<00:00,  1.61s/it]\n"
          ]
        },
        {
          "output_type": "stream",
          "name": "stdout",
          "text": [
            "Train Loss: 1.1959, Classification Loss: 0.8666, Regression Loss: 0.3308, Accuracy: 73.60%\n",
            "Validation Loss: 1.2128, Classification Loss: 0.8708, Regression Loss: 0.3437, Accuracy: 69.23%\n",
            "\n",
            "Epoch 6/25\n"
          ]
        },
        {
          "output_type": "stream",
          "name": "stderr",
          "text": [
            "100%|██████████| 6/6 [00:09<00:00,  1.63s/it]\n"
          ]
        },
        {
          "output_type": "stream",
          "name": "stdout",
          "text": [
            "Train Loss: 1.0486, Classification Loss: 0.7275, Regression Loss: 0.3227, Accuracy: 79.78%\n",
            "Validation Loss: 1.1492, Classification Loss: 0.7914, Regression Loss: 0.3598, Accuracy: 69.23%\n",
            "\n",
            "Epoch 7/25\n"
          ]
        },
        {
          "output_type": "stream",
          "name": "stderr",
          "text": [
            "100%|██████████| 6/6 [00:08<00:00,  1.48s/it]\n"
          ]
        },
        {
          "output_type": "stream",
          "name": "stdout",
          "text": [
            "Train Loss: 0.9216, Classification Loss: 0.6073, Regression Loss: 0.3164, Accuracy: 80.34%\n",
            "Validation Loss: 1.0533, Classification Loss: 0.6881, Regression Loss: 0.3675, Accuracy: 69.23%\n",
            "\n",
            "Epoch 8/25\n"
          ]
        },
        {
          "output_type": "stream",
          "name": "stderr",
          "text": [
            "100%|██████████| 6/6 [00:09<00:00,  1.56s/it]\n"
          ]
        },
        {
          "output_type": "stream",
          "name": "stdout",
          "text": [
            "Train Loss: 0.7584, Classification Loss: 0.4698, Regression Loss: 0.2914, Accuracy: 85.39%\n",
            "Validation Loss: 0.8847, Classification Loss: 0.5125, Regression Loss: 0.3750, Accuracy: 74.36%\n",
            "\n",
            "Epoch 9/25\n"
          ]
        },
        {
          "output_type": "stream",
          "name": "stderr",
          "text": [
            "100%|██████████| 6/6 [00:09<00:00,  1.63s/it]\n"
          ]
        },
        {
          "output_type": "stream",
          "name": "stdout",
          "text": [
            "Train Loss: 0.6647, Classification Loss: 0.3970, Regression Loss: 0.2714, Accuracy: 86.52%\n",
            "Validation Loss: 0.7514, Classification Loss: 0.3810, Regression Loss: 0.3740, Accuracy: 84.62%\n",
            "New best model saved with accuracy: 84.62%\n",
            "\n",
            "Epoch 10/25\n"
          ]
        },
        {
          "output_type": "stream",
          "name": "stderr",
          "text": [
            "100%|██████████| 6/6 [00:10<00:00,  1.70s/it]\n"
          ]
        },
        {
          "output_type": "stream",
          "name": "stdout",
          "text": [
            "Train Loss: 0.5825, Classification Loss: 0.3067, Regression Loss: 0.2805, Accuracy: 93.82%\n",
            "Validation Loss: 0.6661, Classification Loss: 0.2970, Regression Loss: 0.3738, Accuracy: 89.74%\n",
            "New best model saved with accuracy: 89.74%\n",
            "\n",
            "Epoch 11/25\n"
          ]
        },
        {
          "output_type": "stream",
          "name": "stderr",
          "text": [
            "100%|██████████| 6/6 [00:09<00:00,  1.64s/it]\n"
          ]
        },
        {
          "output_type": "stream",
          "name": "stdout",
          "text": [
            "Train Loss: 0.5075, Classification Loss: 0.2350, Regression Loss: 0.2784, Accuracy: 95.51%\n",
            "Validation Loss: 0.6737, Classification Loss: 0.3078, Regression Loss: 0.3717, Accuracy: 89.74%\n",
            "\n",
            "Epoch 12/25\n"
          ]
        },
        {
          "output_type": "stream",
          "name": "stderr",
          "text": [
            "100%|██████████| 6/6 [00:09<00:00,  1.62s/it]\n"
          ]
        },
        {
          "output_type": "stream",
          "name": "stdout",
          "text": [
            "Train Loss: 0.3933, Classification Loss: 0.1135, Regression Loss: 0.2871, Accuracy: 99.44%\n",
            "Validation Loss: 0.7832, Classification Loss: 0.4029, Regression Loss: 0.3866, Accuracy: 94.87%\n",
            "New best model saved with accuracy: 94.87%\n",
            "\n",
            "Epoch 13/25\n"
          ]
        },
        {
          "output_type": "stream",
          "name": "stderr",
          "text": [
            "100%|██████████| 6/6 [00:09<00:00,  1.53s/it]\n"
          ]
        },
        {
          "output_type": "stream",
          "name": "stdout",
          "text": [
            "Train Loss: 0.3972, Classification Loss: 0.1183, Regression Loss: 0.2873, Accuracy: 99.44%\n",
            "Validation Loss: 0.8585, Classification Loss: 0.4945, Regression Loss: 0.3710, Accuracy: 94.87%\n",
            "\n",
            "Epoch 14/25\n"
          ]
        },
        {
          "output_type": "stream",
          "name": "stderr",
          "text": [
            "100%|██████████| 6/6 [00:09<00:00,  1.50s/it]\n"
          ]
        },
        {
          "output_type": "stream",
          "name": "stdout",
          "text": [
            "Train Loss: 0.3866, Classification Loss: 0.0872, Regression Loss: 0.3090, Accuracy: 98.31%\n",
            "Validation Loss: 0.7414, Classification Loss: 0.4122, Regression Loss: 0.3378, Accuracy: 97.44%\n",
            "New best model saved with accuracy: 97.44%\n",
            "\n",
            "Epoch 15/25\n"
          ]
        },
        {
          "output_type": "stream",
          "name": "stderr",
          "text": [
            "100%|██████████| 6/6 [00:09<00:00,  1.64s/it]\n"
          ]
        },
        {
          "output_type": "stream",
          "name": "stdout",
          "text": [
            "Train Loss: 0.3369, Classification Loss: 0.0921, Regression Loss: 0.2560, Accuracy: 97.75%\n",
            "Validation Loss: 0.6523, Classification Loss: 0.3383, Regression Loss: 0.3236, Accuracy: 97.44%\n",
            "\n",
            "Epoch 16/25\n"
          ]
        },
        {
          "output_type": "stream",
          "name": "stderr",
          "text": [
            "100%|██████████| 6/6 [00:09<00:00,  1.64s/it]\n"
          ]
        },
        {
          "output_type": "stream",
          "name": "stdout",
          "text": [
            "Train Loss: 0.2754, Classification Loss: 0.0376, Regression Loss: 0.2499, Accuracy: 100.00%\n",
            "Validation Loss: 0.6628, Classification Loss: 0.3602, Regression Loss: 0.3127, Accuracy: 97.44%\n",
            "\n",
            "Epoch 17/25\n"
          ]
        },
        {
          "output_type": "stream",
          "name": "stderr",
          "text": [
            "100%|██████████| 6/6 [00:09<00:00,  1.65s/it]\n"
          ]
        },
        {
          "output_type": "stream",
          "name": "stdout",
          "text": [
            "Train Loss: 0.3045, Classification Loss: 0.0600, Regression Loss: 0.2570, Accuracy: 98.88%\n",
            "Validation Loss: 0.6640, Classification Loss: 0.3709, Regression Loss: 0.3036, Accuracy: 97.44%\n",
            "\n",
            "Epoch 18/25\n"
          ]
        },
        {
          "output_type": "stream",
          "name": "stderr",
          "text": [
            "100%|██████████| 6/6 [00:09<00:00,  1.56s/it]\n"
          ]
        },
        {
          "output_type": "stream",
          "name": "stdout",
          "text": [
            "Train Loss: 0.3095, Classification Loss: 0.0327, Regression Loss: 0.2898, Accuracy: 99.44%\n",
            "Validation Loss: 0.6609, Classification Loss: 0.3726, Regression Loss: 0.2994, Accuracy: 97.44%\n",
            "\n",
            "Epoch 19/25\n"
          ]
        },
        {
          "output_type": "stream",
          "name": "stderr",
          "text": [
            "100%|██████████| 6/6 [00:09<00:00,  1.56s/it]\n"
          ]
        },
        {
          "output_type": "stream",
          "name": "stdout",
          "text": [
            "Train Loss: 0.2895, Classification Loss: 0.0315, Regression Loss: 0.2718, Accuracy: 99.44%\n",
            "Validation Loss: 0.6810, Classification Loss: 0.4000, Regression Loss: 0.2924, Accuracy: 97.44%\n",
            "\n",
            "Epoch 20/25\n"
          ]
        },
        {
          "output_type": "stream",
          "name": "stderr",
          "text": [
            "100%|██████████| 6/6 [00:09<00:00,  1.59s/it]\n"
          ]
        },
        {
          "output_type": "stream",
          "name": "stdout",
          "text": [
            "Train Loss: 0.3356, Classification Loss: 0.0935, Regression Loss: 0.2561, Accuracy: 96.07%\n",
            "Validation Loss: 0.6549, Classification Loss: 0.3788, Regression Loss: 0.2880, Accuracy: 97.44%\n",
            "\n",
            "Epoch 21/25\n"
          ]
        },
        {
          "output_type": "stream",
          "name": "stderr",
          "text": [
            "100%|██████████| 6/6 [00:09<00:00,  1.64s/it]\n"
          ]
        },
        {
          "output_type": "stream",
          "name": "stdout",
          "text": [
            "Train Loss: 0.2617, Classification Loss: 0.0332, Regression Loss: 0.2434, Accuracy: 98.88%\n",
            "Validation Loss: 0.6437, Classification Loss: 0.3726, Regression Loss: 0.2833, Accuracy: 97.44%\n",
            "\n",
            "Epoch 22/25\n"
          ]
        },
        {
          "output_type": "stream",
          "name": "stderr",
          "text": [
            "100%|██████████| 6/6 [00:09<00:00,  1.61s/it]\n"
          ]
        },
        {
          "output_type": "stream",
          "name": "stdout",
          "text": [
            "Train Loss: 0.2839, Classification Loss: 0.0545, Regression Loss: 0.2444, Accuracy: 98.88%\n",
            "Validation Loss: 0.5958, Classification Loss: 0.3252, Regression Loss: 0.2833, Accuracy: 97.44%\n",
            "\n",
            "Epoch 23/25\n"
          ]
        },
        {
          "output_type": "stream",
          "name": "stderr",
          "text": [
            "100%|██████████| 6/6 [00:09<00:00,  1.55s/it]\n"
          ]
        },
        {
          "output_type": "stream",
          "name": "stdout",
          "text": [
            "Train Loss: 0.2500, Classification Loss: 0.0245, Regression Loss: 0.2411, Accuracy: 99.44%\n",
            "Validation Loss: 0.5953, Classification Loss: 0.3265, Regression Loss: 0.2818, Accuracy: 97.44%\n",
            "\n",
            "Epoch 24/25\n"
          ]
        },
        {
          "output_type": "stream",
          "name": "stderr",
          "text": [
            "100%|██████████| 6/6 [00:08<00:00,  1.47s/it]\n"
          ]
        },
        {
          "output_type": "stream",
          "name": "stdout",
          "text": [
            "Train Loss: 0.2706, Classification Loss: 0.0293, Regression Loss: 0.2570, Accuracy: 99.44%\n",
            "Validation Loss: 0.6058, Classification Loss: 0.3370, Regression Loss: 0.2820, Accuracy: 97.44%\n",
            "\n",
            "Epoch 25/25\n"
          ]
        },
        {
          "output_type": "stream",
          "name": "stderr",
          "text": [
            "100%|██████████| 6/6 [00:09<00:00,  1.60s/it]\n"
          ]
        },
        {
          "output_type": "stream",
          "name": "stdout",
          "text": [
            "Train Loss: 0.2419, Classification Loss: 0.0186, Regression Loss: 0.2396, Accuracy: 99.44%\n",
            "Validation Loss: 0.5786, Classification Loss: 0.3191, Regression Loss: 0.2732, Accuracy: 97.44%\n",
            "\n",
            "Training complete. Best validation accuracy: 97.44%\n",
            "Best model saved at: /content/drive/MyDrive/InnoFarmsAI/FNNPK/best_model.pth\n"
          ]
        }
      ]
    },
    {
      "cell_type": "markdown",
      "source": [
        "#**VISUALIZATION**"
      ],
      "metadata": {
        "id": "dRNUaT44Kjzl"
      }
    },
    {
      "cell_type": "code",
      "source": [
        "import os\n",
        "from PIL import Image\n",
        "import matplotlib.pyplot as plt\n",
        "import numpy as np\n",
        "# Plotting Training and Validation Loss\n",
        "plt.figure(figsize=(10, 5))\n",
        "plt.plot(range(1, num_epochs + 1), train_losses, label=\"Train Loss\")\n",
        "plt.plot(range(1, num_epochs + 1), val_losses, label=\"Validation Loss\")\n",
        "plt.xlabel(\"Epochs\")\n",
        "plt.ylabel(\"Loss\")\n",
        "plt.title(\"Training and Validation Loss\")\n",
        "plt.legend()\n",
        "plt.show()\n",
        "\n",
        "# Plotting Training and Validation Accuracy\n",
        "plt.figure(figsize=(10, 5))\n",
        "plt.plot(range(1, num_epochs + 1), train_accuracies, label=\"Train Accuracy\")\n",
        "plt.plot(range(1, num_epochs + 1), val_accuracies, label=\"Validation Accuracy\")\n",
        "plt.xlabel(\"Epochs\")\n",
        "plt.ylabel(\"Accuracy (%)\")\n",
        "plt.title(\"Training and Validation Accuracy\")\n",
        "plt.legend()\n",
        "plt.show()"
      ],
      "metadata": {
        "colab": {
          "base_uri": "https://localhost:8080/",
          "height": 878
        },
        "id": "HjQS5th0JqA4",
        "outputId": "6d053157-ce81-4a3c-a7b5-50c0d532c602"
      },
      "execution_count": 13,
      "outputs": [
        {
          "output_type": "display_data",
          "data": {
            "text/plain": [
              "<Figure size 1000x500 with 1 Axes>"
            ],
            "image/png": "[encoded data removed]"
          },
          "metadata": {}
        },
        {
          "output_type": "display_data",
          "data": {
            "text/plain": [
              "<Figure size 1000x500 with 1 Axes>"
            ],
            "image/png": "[encoded data removed]"
          },
          "metadata": {}
        }
      ]
    },
    {
      "cell_type": "code",
      "source": [
        "from sklearn.metrics import confusion_matrix, ConfusionMatrixDisplay\n",
        "import matplotlib.pyplot as plt\n",
        "\n",
        "# Generate predictions\n",
        "y_true, y_pred = [], []\n",
        "model.eval()\n",
        "with torch.no_grad():\n",
        "    for images, (labels, _) in val_loader:\n",
        "        images, labels = images.to(device), labels.to(device)\n",
        "        classification_output, _ = model(images)\n",
        "        _, predicted = torch.max(classification_output, 1)\n",
        "        y_true.extend(labels.cpu().numpy())\n",
        "        y_pred.extend(predicted.cpu().numpy())\n",
        "\n",
        "# Confusion Matrix\n",
        "cm = confusion_matrix(y_true, y_pred)\n",
        "disp = ConfusionMatrixDisplay(confusion_matrix=cm, display_labels=classes)\n",
        "disp.plot(cmap=plt.cm.Blues)\n",
        "plt.title(\"Confusion Matrix\")\n",
        "plt.show()\n"
      ],
      "metadata": {
        "colab": {
          "base_uri": "https://localhost:8080/",
          "height": 472
        },
        "id": "_ey72a_XJ4ip",
        "outputId": "6ce9d73c-5c77-4057-80c8-4203a75f8165"
      },
      "execution_count": 14,
      "outputs": [
        {
          "output_type": "display_data",
          "data": {
            "text/plain": [
              "<Figure size 640x480 with 2 Axes>"
            ],
            "image/png": "[encoded data removed]"
          },
          "metadata": {}
        }
      ]
    },
    {
      "cell_type": "code",
      "source": [
        "from sklearn.metrics import classification_report\n",
        "\n",
        "print(\"Classification Report:\")\n",
        "print(classification_report(y_true, y_pred, target_names=classes))\n"
      ],
      "metadata": {
        "colab": {
          "base_uri": "https://localhost:8080/"
        },
        "id": "das9C1ipJ7AY",
        "outputId": "dfb1eb81-c2d4-4dc9-b4e3-3cbec747cea1"
      },
      "execution_count": 15,
      "outputs": [
        {
          "output_type": "stream",
          "name": "stdout",
          "text": [
            "Classification Report:\n",
            "              precision    recall  f1-score   support\n",
            "\n",
            "          FN       1.00      1.00      1.00         9\n",
            "          -N       1.00      1.00      1.00         9\n",
            "          -P       0.91      1.00      0.95        10\n",
            "          -K       1.00      0.91      0.95        11\n",
            "\n",
            "    accuracy                           0.97        39\n",
            "   macro avg       0.98      0.98      0.98        39\n",
            "weighted avg       0.98      0.97      0.97        39\n",
            "\n"
          ]
        }
      ]
    },
    {
      "cell_type": "code",
      "source": [
        "from sklearn.metrics import mean_absolute_error, mean_squared_error, r2_score\n",
        "\n",
        "true_values, predicted_values = [], []\n",
        "with torch.no_grad():\n",
        "    for images, (_, rgb_targets) in val_loader:\n",
        "        images, rgb_targets = images.to(device), rgb_targets.to(device)\n",
        "        _, regression_output = model(images)\n",
        "        true_values.extend(rgb_targets.cpu().numpy())\n",
        "        predicted_values.extend(regression_output.cpu().numpy())\n",
        "\n",
        "# Compute metrics\n",
        "mae = mean_absolute_error(true_values, predicted_values)\n",
        "mse = mean_squared_error(true_values, predicted_values)\n",
        "r2 = r2_score(true_values, predicted_values)\n",
        "\n",
        "print(f\"Regression Performance Metrics:\")\n",
        "print(f\"MAE: {mae:.4f}, MSE: {mse:.4f}, R² Score: {r2:.4f}\")\n"
      ],
      "metadata": {
        "colab": {
          "base_uri": "https://localhost:8080/"
        },
        "id": "mNCp4qTFJ9Sa",
        "outputId": "7cc53af0-f2f3-4430-e307-f443c639012f"
      },
      "execution_count": 16,
      "outputs": [
        {
          "output_type": "stream",
          "name": "stdout",
          "text": [
            "Regression Performance Metrics:\n",
            "MAE: 0.4178, MSE: 0.2751, R² Score: 0.0949\n"
          ]
        }
      ]
    },
    {
      "cell_type": "markdown",
      "source": [
        "#**INFERENCE**"
      ],
      "metadata": {
        "id": "SJ6UiharKm1f"
      }
    },
    {
      "cell_type": "code",
      "source": [
        "# Load the best model\n",
        "model.load_state_dict(torch.load(best_model_path))\n",
        "model.eval()\n",
        "\n",
        "test_loss, test_correct, test_total = 0.0, 0, 0\n",
        "with torch.no_grad():\n",
        "    for images, (labels, rgb_targets) in test_loader:\n",
        "        images, labels, rgb_targets = images.to(device), labels.to(device), rgb_targets.to(device)\n",
        "        classification_output, regression_output = model(images)\n",
        "        classification_loss = classification_criterion(classification_output, labels)\n",
        "        regression_loss = regression_criterion(regression_output, rgb_targets)\n",
        "        loss = (\n",
        "            torch.exp(-log_sigma1) * classification_loss +\n",
        "            torch.exp(-log_sigma2) * regression_loss +\n",
        "            (log_sigma1 + log_sigma2)\n",
        "        )\n",
        "        test_loss += loss.item()\n",
        "        _, predicted = torch.max(classification_output, 1)\n",
        "        test_total += labels.size(0)\n",
        "        test_correct += (predicted == labels).sum().item()\n",
        "\n",
        "test_accuracy = 100 * test_correct / test_total\n",
        "print(f\"Test Loss: {test_loss / len(test_loader):.4f}, Accuracy: {test_accuracy:.2f}%\")\n"
      ],
      "metadata": {
        "colab": {
          "base_uri": "https://localhost:8080/"
        },
        "id": "k5FDfX3hIAN1",
        "outputId": "6be8ed34-9799-4c8c-9f73-d532ae083c6a"
      },
      "execution_count": 11,
      "outputs": [
        {
          "output_type": "stream",
          "name": "stderr",
          "text": [
            "<ipython-input-11-2c1ffb61022b>:2: FutureWarning: You are using `torch.load` with `weights_only=False` (the current default value), which uses the default pickle module implicitly. It is possible to construct malicious pickle data which will execute arbitrary code during unpickling (See https://github.com/pytorch/pytorch/blob/main/SECURITY.md#untrusted-models for more details). In a future release, the default value for `weights_only` will be flipped to `True`. This limits the functions that could be executed during unpickling. Arbitrary objects will no longer be allowed to be loaded via this mode unless they are explicitly allowlisted by the user via `torch.serialization.add_safe_globals`. We recommend you start setting `weights_only=True` for any use case where you don't have full control of the loaded file. Please open an issue on GitHub for any issues related to this experimental feature.\n",
            "  model.load_state_dict(torch.load(best_model_path))\n"
          ]
        },
        {
          "output_type": "stream",
          "name": "stdout",
          "text": [
            "Test Loss: 0.5216, Accuracy: 94.87%\n"
          ]
        }
      ]
    },
    {
      "cell_type": "code",
      "source": [],
      "metadata": {
        "id": "vri0aOiOJbvp"
      },
      "execution_count": null,
      "outputs": []
    }
  ]
}